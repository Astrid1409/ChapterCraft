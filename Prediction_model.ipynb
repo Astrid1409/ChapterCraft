{
 "cells": [
  {
   "cell_type": "markdown",
   "id": "95063c95-09b2-4304-a408-b574943b6243",
   "metadata": {},
   "source": [
    "<h1 style=\"color: #f73779\t;\"> ChapterCraft: Insights Beyond Pages 📖 </h1>"
   ]
  },
  {
   "cell_type": "markdown",
   "id": "a1d442f1-de49-4702-87af-6eea072934f8",
   "metadata": {
    "jp-MarkdownHeadingCollapsed": true
   },
   "source": [
    "<h1 style=\"color: #F08080\t;\">01. Libraries </h1>"
   ]
  },
  {
   "cell_type": "code",
   "execution_count": 3,
   "id": "de9445d9-aaba-41fa-b98c-3be84dc2c0f5",
   "metadata": {},
   "outputs": [
    {
     "name": "stderr",
     "output_type": "stream",
     "text": [
      "[nltk_data] Downloading package punkt to\n",
      "[nltk_data]     C:\\Users\\astri\\AppData\\Roaming\\nltk_data...\n",
      "[nltk_data]   Package punkt is already up-to-date!\n",
      "[nltk_data] Downloading package averaged_perceptron_tagger to\n",
      "[nltk_data]     C:\\Users\\astri\\AppData\\Roaming\\nltk_data...\n",
      "[nltk_data]   Package averaged_perceptron_tagger is already up-to-\n",
      "[nltk_data]       date!\n",
      "[nltk_data] Downloading package stopwords to\n",
      "[nltk_data]     C:\\Users\\astri\\AppData\\Roaming\\nltk_data...\n",
      "[nltk_data]   Package stopwords is already up-to-date!\n"
     ]
    }
   ],
   "source": [
    "# 📚 Basic Libraries\n",
    "import pandas as pd\n",
    "import numpy as np\n",
    "import warnings # nobody likes warnings\n",
    "import scipy.stats as st\n",
    "import statsmodels.api as sm\n",
    "import statsmodels.formula.api as smf\n",
    "from scipy.stats import ttest_ind\n",
    "import re\n",
    "import nltk\n",
    "from nltk.corpus import stopwords\n",
    "from nltk.tokenize import word_tokenize\n",
    "from nltk.stem import PorterStemmer\n",
    "import string\n",
    "nltk.download('punkt')\n",
    "nltk.download('averaged_perceptron_tagger')\n",
    "nltk.download('stopwords')\n",
    "\n",
    "# 📊 Visualizations\n",
    "import matplotlib.pyplot as plt\n",
    "import seaborn as sns\n",
    "import plotly.express as px\n",
    "import plotly.graph_objects as go\n",
    "\n",
    "\n",
    "# 🤖 Machine Learning\n",
    "from sklearn.utils import resample\n",
    "from sklearn.datasets import fetch_california_housing #sklearn tiene muchos csv esta funcion me los trae y no descargo y guardo el csv como tal.\n",
    "from sklearn.model_selection import train_test_split\n",
    "from lazypredict.Supervised import LazyRegressor #prediccion peresoza.\n",
    "from sklearn.ensemble import RandomForestRegressor\n",
    "from sklearn.model_selection import GridSearchCV\n",
    "from sklearn.feature_extraction.text import TfidfVectorizer\n",
    "from sklearn.naive_bayes import MultinomialNB\n",
    "from sklearn.pipeline import Pipeline\n",
    "from sklearn.metrics import classification_report, accuracy_score\n",
    "from sklearn.metrics import cohen_kappa_score\n",
    "from sklearn.linear_model import LinearRegression\n",
    "from sklearn.metrics import r2_score, mean_squared_error, mean_absolute_error\n",
    "from sklearn.linear_model import LogisticRegression #esta es nueva\n",
    "from sklearn.metrics import roc_curve, confusion_matrix, ConfusionMatrixDisplay #esta es nueva, me da el mapita de calor de roc curve\n",
    "from sklearn.metrics import classification_report #esta es nueva, esta me va a decir todo el reporte\n",
    "from sklearn.preprocessing import StandardScaler\n",
    "from lazypredict.Supervised import LazyClassifier, LazyRegressor\n",
    "from sklearn import datasets\n",
    "from sklearn.ensemble import RandomForestClassifier\n",
    "from sklearn.metrics import accuracy_score, classification_report\n",
    "\n",
    "# ⚙️ Settings\n",
    "pd.set_option('display.max_columns', None) # display all columns\n",
    "warnings.filterwarnings('ignore') # ignore warnings\n",
    "\n",
    "#nltk.download('stopwords')\n",
    "#nltk.download('punkt')"
   ]
  },
  {
   "cell_type": "markdown",
   "id": "687b6b8c-7b64-4cb2-b8ae-81d6d634d368",
   "metadata": {
    "jp-MarkdownHeadingCollapsed": true
   },
   "source": [
    "<h1 style=\"color: #F08080;\">02. Data Extraction </h1>"
   ]
  },
  {
   "cell_type": "code",
   "execution_count": 5,
   "id": "bc7df4ad-926b-4375-b859-3bf4016b042f",
   "metadata": {},
   "outputs": [
    {
     "data": {
      "text/html": [
       "<div>\n",
       "<style scoped>\n",
       "    .dataframe tbody tr th:only-of-type {\n",
       "        vertical-align: middle;\n",
       "    }\n",
       "\n",
       "    .dataframe tbody tr th {\n",
       "        vertical-align: top;\n",
       "    }\n",
       "\n",
       "    .dataframe thead th {\n",
       "        text-align: right;\n",
       "    }\n",
       "</style>\n",
       "<table border=\"1\" class=\"dataframe\">\n",
       "  <thead>\n",
       "    <tr style=\"text-align: right;\">\n",
       "      <th></th>\n",
       "      <th>TITLE</th>\n",
       "      <th>AUTHOR</th>\n",
       "      <th>GENRE1</th>\n",
       "      <th>GENRE2</th>\n",
       "      <th>GENRE3</th>\n",
       "      <th>FORMAT</th>\n",
       "      <th>PAGES</th>\n",
       "      <th>DESCRIPTION</th>\n",
       "      <th>PUBLISHED</th>\n",
       "      <th>PUBLISHED_YEAR</th>\n",
       "      <th>STARS</th>\n",
       "      <th>RATINGS</th>\n",
       "    </tr>\n",
       "  </thead>\n",
       "  <tbody>\n",
       "    <tr>\n",
       "      <th>0</th>\n",
       "      <td>The Complete Stories and Poems</td>\n",
       "      <td>Edgar Allan Poe</td>\n",
       "      <td>Poetry</td>\n",
       "      <td>Horror</td>\n",
       "      <td>Fiction</td>\n",
       "      <td>Hardcover</td>\n",
       "      <td>821.00</td>\n",
       "      <td>This single volume brings together all of Poe'...</td>\n",
       "      <td>November 1, 1849</td>\n",
       "      <td>1849</td>\n",
       "      <td>4.40</td>\n",
       "      <td>280794</td>\n",
       "    </tr>\n",
       "    <tr>\n",
       "      <th>1</th>\n",
       "      <td>The Old Man and the Sea</td>\n",
       "      <td>Ernest Hemingway</td>\n",
       "      <td>Fiction</td>\n",
       "      <td>Literature</td>\n",
       "      <td>Novels</td>\n",
       "      <td>Hardcover</td>\n",
       "      <td>96.00</td>\n",
       "      <td>This short novel, already a modern classic, is...</td>\n",
       "      <td>September 1, 1952</td>\n",
       "      <td>1952</td>\n",
       "      <td>3.80</td>\n",
       "      <td>1198272</td>\n",
       "    </tr>\n",
       "    <tr>\n",
       "      <th>2</th>\n",
       "      <td>Interview with the Vampire</td>\n",
       "      <td>Anne Rice</td>\n",
       "      <td>Fantasy</td>\n",
       "      <td>Fiction</td>\n",
       "      <td>Vampires</td>\n",
       "      <td>Paperback</td>\n",
       "      <td>346.00</td>\n",
       "      <td>This is the story of Louis, as told in his own...</td>\n",
       "      <td>April 12, 1976</td>\n",
       "      <td>1976</td>\n",
       "      <td>4.02</td>\n",
       "      <td>609274</td>\n",
       "    </tr>\n",
       "    <tr>\n",
       "      <th>3</th>\n",
       "      <td>Don Quixote</td>\n",
       "      <td>Miguel de Cervantes Saavedra</td>\n",
       "      <td>Classics</td>\n",
       "      <td>Literature</td>\n",
       "      <td>Spanish Literature</td>\n",
       "      <td>Paperback</td>\n",
       "      <td>1023.00</td>\n",
       "      <td>Don Quixote has become so entranced by reading...</td>\n",
       "      <td>January 1, 1605</td>\n",
       "      <td>1605</td>\n",
       "      <td>3.90</td>\n",
       "      <td>281892</td>\n",
       "    </tr>\n",
       "  </tbody>\n",
       "</table>\n",
       "</div>"
      ],
      "text/plain": [
       "                            TITLE                        AUTHOR    GENRE1  \\\n",
       "0  The Complete Stories and Poems               Edgar Allan Poe    Poetry   \n",
       "1         The Old Man and the Sea              Ernest Hemingway   Fiction   \n",
       "2      Interview with the Vampire                     Anne Rice   Fantasy   \n",
       "3                     Don Quixote  Miguel de Cervantes Saavedra  Classics   \n",
       "\n",
       "       GENRE2              GENRE3     FORMAT   PAGES  \\\n",
       "0      Horror             Fiction  Hardcover  821.00   \n",
       "1  Literature              Novels  Hardcover   96.00   \n",
       "2     Fiction            Vampires  Paperback  346.00   \n",
       "3  Literature  Spanish Literature  Paperback 1023.00   \n",
       "\n",
       "                                         DESCRIPTION          PUBLISHED  \\\n",
       "0  This single volume brings together all of Poe'...   November 1, 1849   \n",
       "1  This short novel, already a modern classic, is...  September 1, 1952   \n",
       "2  This is the story of Louis, as told in his own...     April 12, 1976   \n",
       "3  Don Quixote has become so entranced by reading...    January 1, 1605   \n",
       "\n",
       "   PUBLISHED_YEAR  STARS  RATINGS  \n",
       "0            1849   4.40   280794  \n",
       "1            1952   3.80  1198272  \n",
       "2            1976   4.02   609274  \n",
       "3            1605   3.90   281892  "
      ]
     },
     "execution_count": 5,
     "metadata": {},
     "output_type": "execute_result"
    }
   ],
   "source": [
    "df_books = pd.read_csv('df_books.csv')\n",
    "df_books.head(4)"
   ]
  },
  {
   "cell_type": "markdown",
   "id": "932cf155-e62f-4f8b-9770-9f6ae64e7656",
   "metadata": {
    "jp-MarkdownHeadingCollapsed": true
   },
   "source": [
    "<h1 style=\"color: #F08080;\">03. Initial Exploration </h1>"
   ]
  },
  {
   "cell_type": "code",
   "execution_count": 7,
   "id": "5a5eb1f7-cee4-4ee5-b84f-8bed29ee23bf",
   "metadata": {},
   "outputs": [],
   "source": [
    "df_books.columns = df_books.columns.str.lower().str.replace(\" \", \"_\")"
   ]
  },
  {
   "cell_type": "code",
   "execution_count": 8,
   "id": "716e7e8c-b3c1-4ffd-a52e-150add21ddef",
   "metadata": {},
   "outputs": [],
   "source": [
    "#We are going to change the number of the column genre1 to genre\n",
    "df_books.rename(columns={'genre1': 'genre'}, inplace=True)\n"
   ]
  },
  {
   "cell_type": "code",
   "execution_count": 9,
   "id": "6ac5982f-933b-48ed-a275-5bfd4f7f905d",
   "metadata": {},
   "outputs": [
    {
     "data": {
      "text/plain": [
       "Index(['title', 'author', 'genre', 'genre2', 'genre3', 'format', 'pages',\n",
       "       'description', 'published', 'published_year', 'stars', 'ratings'],\n",
       "      dtype='object')"
      ]
     },
     "execution_count": 9,
     "metadata": {},
     "output_type": "execute_result"
    }
   ],
   "source": [
    "df_books.columns"
   ]
  },
  {
   "cell_type": "code",
   "execution_count": 10,
   "id": "87bcdd3d-2bb9-4260-a329-65458fd94edc",
   "metadata": {},
   "outputs": [
    {
     "data": {
      "text/html": [
       "<div>\n",
       "<style scoped>\n",
       "    .dataframe tbody tr th:only-of-type {\n",
       "        vertical-align: middle;\n",
       "    }\n",
       "\n",
       "    .dataframe tbody tr th {\n",
       "        vertical-align: top;\n",
       "    }\n",
       "\n",
       "    .dataframe thead th {\n",
       "        text-align: right;\n",
       "    }\n",
       "</style>\n",
       "<table border=\"1\" class=\"dataframe\">\n",
       "  <thead>\n",
       "    <tr style=\"text-align: right;\">\n",
       "      <th></th>\n",
       "      <th>title</th>\n",
       "      <th>genre</th>\n",
       "      <th>description</th>\n",
       "    </tr>\n",
       "  </thead>\n",
       "  <tbody>\n",
       "    <tr>\n",
       "      <th>0</th>\n",
       "      <td>The Complete Stories and Poems</td>\n",
       "      <td>Poetry</td>\n",
       "      <td>This single volume brings together all of Poe'...</td>\n",
       "    </tr>\n",
       "    <tr>\n",
       "      <th>1</th>\n",
       "      <td>The Old Man and the Sea</td>\n",
       "      <td>Fiction</td>\n",
       "      <td>This short novel, already a modern classic, is...</td>\n",
       "    </tr>\n",
       "    <tr>\n",
       "      <th>2</th>\n",
       "      <td>Interview with the Vampire</td>\n",
       "      <td>Fantasy</td>\n",
       "      <td>This is the story of Louis, as told in his own...</td>\n",
       "    </tr>\n",
       "    <tr>\n",
       "      <th>3</th>\n",
       "      <td>Don Quixote</td>\n",
       "      <td>Classics</td>\n",
       "      <td>Don Quixote has become so entranced by reading...</td>\n",
       "    </tr>\n",
       "    <tr>\n",
       "      <th>4</th>\n",
       "      <td>The Hunger Games</td>\n",
       "      <td>Fiction</td>\n",
       "      <td>In the ruins of a place once known as North Am...</td>\n",
       "    </tr>\n",
       "  </tbody>\n",
       "</table>\n",
       "</div>"
      ],
      "text/plain": [
       "                            title     genre  \\\n",
       "0  The Complete Stories and Poems    Poetry   \n",
       "1         The Old Man and the Sea   Fiction   \n",
       "2      Interview with the Vampire   Fantasy   \n",
       "3                     Don Quixote  Classics   \n",
       "4                The Hunger Games   Fiction   \n",
       "\n",
       "                                         description  \n",
       "0  This single volume brings together all of Poe'...  \n",
       "1  This short novel, already a modern classic, is...  \n",
       "2  This is the story of Louis, as told in his own...  \n",
       "3  Don Quixote has become so entranced by reading...  \n",
       "4  In the ruins of a place once known as North Am...  "
      ]
     },
     "execution_count": 10,
     "metadata": {},
     "output_type": "execute_result"
    }
   ],
   "source": [
    "df_ped = df_books[['title', 'genre', 'description']].copy()\n",
    "df_ped.head(5)"
   ]
  },
  {
   "cell_type": "markdown",
   "id": "90e71b9b-c10b-4a7e-a1a4-b8b3dcc36fbd",
   "metadata": {
    "jp-MarkdownHeadingCollapsed": true
   },
   "source": [
    "<h1 style=\"color: #F08080;\">04. Data Cleaning </h1>"
   ]
  },
  {
   "cell_type": "code",
   "execution_count": 12,
   "id": "c25eb265-24de-4ddf-a53b-83485061ed7d",
   "metadata": {},
   "outputs": [
    {
     "data": {
      "text/plain": [
       "0"
      ]
     },
     "execution_count": 12,
     "metadata": {},
     "output_type": "execute_result"
    }
   ],
   "source": [
    "#Duplicated data\n",
    "df_ped.duplicated().sum()"
   ]
  },
  {
   "cell_type": "code",
   "execution_count": 13,
   "id": "ddaaecf2-4f8b-4fd1-8bc9-b09ab63e71a7",
   "metadata": {},
   "outputs": [
    {
     "data": {
      "text/plain": [
       "title           1\n",
       "genre           0\n",
       "description    14\n",
       "dtype: int64"
      ]
     },
     "execution_count": 13,
     "metadata": {},
     "output_type": "execute_result"
    }
   ],
   "source": [
    "#Nan values\n",
    "df_ped.isna().sum()"
   ]
  },
  {
   "cell_type": "code",
   "execution_count": 14,
   "id": "1fcc1b2f-49b9-4374-8165-07221fefd9c4",
   "metadata": {},
   "outputs": [
    {
     "data": {
      "text/plain": [
       "9637"
      ]
     },
     "execution_count": 14,
     "metadata": {},
     "output_type": "execute_result"
    }
   ],
   "source": [
    "len(df_ped)"
   ]
  },
  {
   "cell_type": "code",
   "execution_count": 15,
   "id": "aa117c35-e0ab-431f-a4e1-3c6f0eb1b26f",
   "metadata": {},
   "outputs": [],
   "source": [
    "#We are going to erase the rows with null values because this is the target of our model. \n",
    "df_ped = df_ped.dropna(subset=[\"title\", \"description\", \"genre\"])"
   ]
  },
  {
   "cell_type": "code",
   "execution_count": 16,
   "id": "fda2675f-a471-430b-af95-56c7e933a931",
   "metadata": {},
   "outputs": [
    {
     "data": {
      "text/plain": [
       "9623"
      ]
     },
     "execution_count": 16,
     "metadata": {},
     "output_type": "execute_result"
    }
   ],
   "source": [
    "len(df_ped)"
   ]
  },
  {
   "cell_type": "code",
   "execution_count": 17,
   "id": "02f3f51f-0ae3-44c1-9b51-5c70ada6a739",
   "metadata": {},
   "outputs": [
    {
     "data": {
      "text/plain": [
       "title          0\n",
       "genre          0\n",
       "description    0\n",
       "dtype: int64"
      ]
     },
     "execution_count": 17,
     "metadata": {},
     "output_type": "execute_result"
    }
   ],
   "source": [
    "df_ped.isna().sum()"
   ]
  },
  {
   "cell_type": "code",
   "execution_count": 18,
   "id": "a73895aa-88a6-4ada-a653-cc2365d419ae",
   "metadata": {},
   "outputs": [
    {
     "data": {
      "text/plain": [
       "title          0\n",
       "genre          0\n",
       "description    0\n",
       "dtype: int64"
      ]
     },
     "execution_count": 18,
     "metadata": {},
     "output_type": "execute_result"
    }
   ],
   "source": [
    "#Empty spaces\n",
    "df_ped.eq(' ').sum()"
   ]
  },
  {
   "cell_type": "markdown",
   "id": "1ff8ac07-a413-4bd8-a307-6ee00d6d6905",
   "metadata": {},
   "source": [
    "<h2 style=\"color: #FFA07A;\">Mapping Genders </h2>"
   ]
  },
  {
   "cell_type": "code",
   "execution_count": 20,
   "id": "f9435672-1b92-4612-aeab-2d4a077cb392",
   "metadata": {
    "scrolled": true
   },
   "outputs": [
    {
     "data": {
      "text/plain": [
       "genre\n",
       "Fiction         2133\n",
       "Young Adult      961\n",
       "Classics         454\n",
       "Nonfiction       420\n",
       "Romance          417\n",
       "                ... \n",
       "Kindle $8.49       1\n",
       "Mathematics        1\n",
       "Pulp               1\n",
       "Asia               1\n",
       "Kindle $2.99       1\n",
       "Name: count, Length: 237, dtype: int64"
      ]
     },
     "execution_count": 20,
     "metadata": {},
     "output_type": "execute_result"
    }
   ],
   "source": [
    "df_ped.genre.value_counts()"
   ]
  },
  {
   "cell_type": "code",
   "execution_count": 21,
   "id": "bf8ce903-19db-44ef-b5e7-9f9c7ffaff0c",
   "metadata": {
    "scrolled": true
   },
   "outputs": [
    {
     "data": {
      "text/plain": [
       "array(['Poetry', 'Fiction', 'Fantasy', 'Classics', 'Historical Fiction',\n",
       "       'Memoir', 'Young Adult', 'Science Fiction', 'Russia',\n",
       "       'Picture Books', 'Mystery', 'Nonfiction', 'Contemporary',\n",
       "       'Coming Of Age', 'Dystopia', 'Romance', 'Horror', 'Mythology',\n",
       "       'Erotica', 'Thriller', 'Travel', 'Music', 'LGBT', 'Plays',\n",
       "       'Vampires', 'Adventure', 'Mystery Thriller',\n",
       "       'Psychological Thriller', 'Paranormal', 'Literary Fiction',\n",
       "       'Middle Grade', 'Write a Review', 'Animals', 'Kindle $5.99',\n",
       "       'Science Fiction Fantasy', 'Magical Realism', 'Philosophy',\n",
       "       'Childrens', 'France', 'Humor', 'Novels', 'New Adult', 'Business',\n",
       "       'Medical', 'Graphic Novels', 'Self Help', 'Dragons', 'Ireland',\n",
       "       'Contemporary Romance', 'Artificial Intelligence', 'Crime',\n",
       "       'Biography', 'Book details & editions', 'Russian Literature',\n",
       "       'Epic', 'Sociology', 'Writing', 'China', 'Zombies',\n",
       "       'Short Stories', 'Politics', 'Japan', 'Sports', 'Time Travel',\n",
       "       'Psychology', 'Witches', 'Audiobook', 'Action', 'Civil War',\n",
       "       'Africa', 'Buddhism', 'Queer', 'Urban Fantasy', 'Feminism',\n",
       "       'History', 'Canada', 'Forgotten Realms', 'Space Opera', 'Science',\n",
       "       'Education', 'Occult', 'Historical', 'Productivity', 'Romantasy',\n",
       "       'Nature', 'Werewolves', 'Drama', 'Dark', 'Art', 'Epic Fantasy',\n",
       "       'Noir', 'Magic', 'Southern', 'Reverse Harem', 'Italian Literature',\n",
       "       'Religion', 'Paranormal Romance', 'True Crime', 'Comedy', 'Family',\n",
       "       'Essays', 'Gothic', 'Aliens', 'Comics', 'High Fantasy',\n",
       "       'M M Romance', 'Italy', 'Christian', 'Sports Romance', 'Textbooks',\n",
       "       'Historical Romance', 'Realistic Fiction', 'Portugal', 'BDSM',\n",
       "       'Spirituality', 'Latin American', 'Jewish', '20th Century',\n",
       "       'Halloween', 'Dinosaurs', 'Sword and Sorcery', 'Dragonlance',\n",
       "       'Physics', 'Books About Books', 'War', 'Christianity',\n",
       "       'Japanese Literature', 'Turkish Literature', 'Food', 'School',\n",
       "       'Ghost Stories', 'Prayer', 'Manga', 'Angels', 'India', 'Theatre',\n",
       "       'Inspirational', 'Fae', 'Chick Lit', 'Kindle $14.99', 'Espionage',\n",
       "       'Romantic Suspense', 'How To', 'Christian Fiction',\n",
       "       'Czech Literature', 'Christmas', 'Teen', 'Cooking',\n",
       "       'Entrepreneurship', 'Spanish Literature', 'World War II',\n",
       "       'Suspense', 'Death', 'Greek Mythology', 'Lds', 'Mental Health',\n",
       "       'Fighters', 'Mermaids', 'Steampunk', 'Indian Literature',\n",
       "       'Cyberpunk', 'Turkish', 'Leadership', 'Economics',\n",
       "       'German Literature', 'Fairy Tales', 'Romanian Literature', 'Elves',\n",
       "       'Dutch Literature', 'Iran', 'Adult', 'True Story', 'Finance',\n",
       "       'Love', 'Military Fiction', 'Polish Literature',\n",
       "       'Indonesian Literature', 'Westerns', 'Book Club',\n",
       "       'Native American', 'Hungary', 'Alternate History',\n",
       "       'British Literature', 'Novella', 'Weird Fiction',\n",
       "       'French Literature', 'Theology', 'Literature', 'American', 'Race',\n",
       "       'Nobel Prize', 'Cozy Mystery', 'Hungarian Literature',\n",
       "       'Fan Fiction', 'Kindle $8.49', 'Mathematics', 'Pulp', 'Asia',\n",
       "       'Australia', 'Horses', 'African American', 'Romantic',\n",
       "       'High School', 'Gardening', 'Pirates', 'Post Apocalyptic',\n",
       "       '19th Century', 'Victorian', 'Literary Criticism', '21st Century',\n",
       "       'Shop this series', 'Scotland', 'Asexual', 'Dogs', 'Parenting',\n",
       "       'Autistic Spectrum Disorder', 'Abuse', 'Medicine', 'Islam',\n",
       "       'Bizarro Fiction', 'Fantasy Romance', 'Adoption', 'Retellings',\n",
       "       'Love Story', 'Holocaust', 'Kindle Unlimited $0.00', 'Batman',\n",
       "       'Technology', 'Medieval', 'Gaming', 'Personal Development',\n",
       "       'Southern Gothic', '17th Century', 'Kindle $11.99',\n",
       "       'Speculative Fiction', 'Kindle $9.99', 'Kindle $2.99'],\n",
       "      dtype=object)"
      ]
     },
     "execution_count": 21,
     "metadata": {},
     "output_type": "execute_result"
    }
   ],
   "source": [
    "df_ped.genre.unique()"
   ]
  },
  {
   "cell_type": "code",
   "execution_count": 22,
   "id": "c077594f-ae25-4297-bac4-375c30e99796",
   "metadata": {},
   "outputs": [],
   "source": [
    "#Create a dictionary with genre1 that we have and the genders we want.\n",
    "genre_mapping = {\n",
    "    'Poetry': 'Literature',\n",
    "    'Fiction': 'Fiction',\n",
    "    'Fantasy': 'Fantasy',\n",
    "    'Classics': 'Classics',\n",
    "    'Historical Fiction': 'Fiction',\n",
    "    'Memoir': 'Nonfiction',\n",
    "    'Young Adult': 'Young Adult',\n",
    "    'Science Fiction': 'Science Fiction',\n",
    "    'Picture Books': 'Childrens',\n",
    "    'Mystery': 'Mystery/Thriller',\n",
    "    'Nonfiction': 'Nonfiction',\n",
    "    'Contemporary': 'Fiction',\n",
    "    'Coming Of Age': 'Fiction',\n",
    "    'Dystopia': 'Science Fiction',\n",
    "    'Romance': 'Romance',\n",
    "    'Horror': 'Horror',\n",
    "    'Mythology': 'Mythology',\n",
    "    'Erotica': 'Romance',\n",
    "    'Thriller': 'Mystery/Thriller',\n",
    "    'Travel': 'Nonfiction',\n",
    "    'Music': 'Nonfiction',\n",
    "    'LGBT': 'Fiction',\n",
    "    'Plays': 'Literature',\n",
    "    'Adventure': 'Fiction',\n",
    "    'Psychological Thriller': 'Mystery/Thriller',\n",
    "    'Paranormal': 'Fantasy',\n",
    "    'Literary Fiction': 'Fiction',\n",
    "    'Childrens': 'Childrens',\n",
    "    'Graphic Novels': 'Comics/Graphic Novels',\n",
    "    'Self Help': 'Nonfiction',\n",
    "    'Magical Realism': 'Fantasy',\n",
    "    'Philosophy': 'Nonfiction',\n",
    "    'Humor': 'Fiction',\n",
    "    'New Adult': 'Young Adult',\n",
    "    'Biography': 'Nonfiction',\n",
    "    'Sociology': 'Nonfiction',\n",
    "    'Writing': 'Nonfiction',\n",
    "    'Zombies': 'Horror',\n",
    "    'Politics': 'Nonfiction',\n",
    "    'Sports': 'Nonfiction',\n",
    "    'Time Travel': 'Science Fiction',\n",
    "    'Psychology': 'Nonfiction',\n",
    "    'Witches': 'Fantasy',\n",
    "    'Action': 'Fiction',\n",
    "    'Urban Fantasy': 'Fantasy',\n",
    "    'Feminism': 'Nonfiction',\n",
    "    'History': 'Nonfiction',\n",
    "    'Space Opera': 'Science Fiction',\n",
    "    'Education': 'Nonfiction',\n",
    "    'Epic Fantasy': 'Fantasy',\n",
    "    'Magic': 'Fantasy',\n",
    "    'Paranormal Romance': 'Romance',\n",
    "    'True Crime': 'Nonfiction',\n",
    "    'Comedy': 'Fiction',\n",
    "    'Gothic': 'Fiction',\n",
    "    'High Fantasy': 'Fantasy',\n",
    "    'Christian': 'Religion',\n",
    "    'Christian Fiction': 'Religion',\n",
    "    'Science': 'Nonfiction',\n",
    "    'Nature': 'Nonfiction',\n",
    "    'War': 'Historical',\n",
    "    'Manga': 'Comics/Graphic Novels',\n",
    "    'Inspirational': 'Nonfiction',\n",
    "    'Chick Lit': 'Romance',\n",
    "    'Teen': 'Young Adult',\n",
    "    'Cooking': 'Nonfiction',\n",
    "    'Economics': 'Nonfiction',\n",
    "    'Military Fiction': 'Historical',\n",
    "    'Westerns': 'Fiction',\n",
    "    'Fan Fiction': 'Fiction',\n",
    "    'Post Apocalyptic': 'Science Fiction',\n",
    "    'Victorian': 'Classics',\n",
    "    'Technology': 'Nonfiction',\n",
    "    'Personal Development': 'Nonfiction',\n",
    "}\n",
    "\n",
    "#We apply our dictionary to our column \n",
    "df_ped['genre'] = df_ped['genre'].map(genre_mapping).fillna('Other')\n"
   ]
  },
  {
   "cell_type": "code",
   "execution_count": 23,
   "id": "3a7d169a-9186-4657-b1c3-8fe8898abaa4",
   "metadata": {},
   "outputs": [
    {
     "data": {
      "text/plain": [
       "genre\n",
       "Fiction                  2990\n",
       "Other                    1581\n",
       "Young Adult              1057\n",
       "Nonfiction               1036\n",
       "Fantasy                   667\n",
       "Mystery/Thriller          576\n",
       "Romance                   501\n",
       "Classics                  455\n",
       "Science Fiction           295\n",
       "Horror                    139\n",
       "Childrens                 124\n",
       "Literature                 67\n",
       "Mythology                  48\n",
       "Comics/Graphic Novels      41\n",
       "Religion                   34\n",
       "Historical                 12\n",
       "Name: count, dtype: int64"
      ]
     },
     "execution_count": 23,
     "metadata": {},
     "output_type": "execute_result"
    }
   ],
   "source": [
    "df_ped.genre.value_counts()"
   ]
  },
  {
   "cell_type": "markdown",
   "id": "15f4e669-4c4e-4e8c-808c-bdb87a84168a",
   "metadata": {},
   "source": [
    "<h2 style=\"color: #FFA07A;\">Copy as best practices </h2>"
   ]
  },
  {
   "cell_type": "code",
   "execution_count": 25,
   "id": "4307e5ef-d13d-4a61-b7f0-07b8b71cecdc",
   "metadata": {},
   "outputs": [],
   "source": [
    "df = df_ped.copy()"
   ]
  },
  {
   "cell_type": "code",
   "execution_count": 26,
   "id": "5b0d4e1a-6c13-4b51-9098-e16859939c56",
   "metadata": {},
   "outputs": [
    {
     "data": {
      "image/png": "[encoded data removed]",
      "text/plain": [
       "<Figure size 640x480 with 1 Axes>"
      ]
     },
     "metadata": {},
     "output_type": "display_data"
    }
   ],
   "source": [
    "#We plotted our gender column to see the distribution\n",
    "sns.countplot(\n",
    "    x='genre',\n",
    "    data=df,                       \n",
    "    palette=sns.color_palette('pastel')\n",
    ")\n",
    "plt.ylabel('Count')\n",
    "plt.xlabel('Books Gender')  \n",
    "plt.title('Book Genders') \n",
    "plt.xticks(rotation=90)  \n",
    "\n",
    "for bar in plt.gca().patches:  #Get the bars of the graphic\n",
    "    height = bar.get_height()  #Height of every bar (count)\n",
    "    plt.gca().text(\n",
    "        bar.get_x() + bar.get_width() / 2,  #Horizontal position.\n",
    "        height,              #Bar height\n",
    "        f'{int(height)}',   #This convert the number into integer.                \n",
    "        ha='center',    #This indicate that the text should be at the center of the column                      \n",
    "        va='bottom' #This indicate that the text should go at the bottom of the column                      \n",
    "    )\n",
    "\n",
    "plt.show()"
   ]
  },
  {
   "cell_type": "markdown",
   "id": "ab653963-5084-472c-890b-c8a9286ca0b6",
   "metadata": {},
   "source": [
    "As we can see, there are some genders with few books. \n",
    "We are going to considere for our model just the genders with more than 80 books. \n"
   ]
  },
  {
   "cell_type": "code",
   "execution_count": 28,
   "id": "515fefbd-2b60-4cf8-893b-2927bfb6ca7b",
   "metadata": {},
   "outputs": [
    {
     "data": {
      "text/html": [
       "<div>\n",
       "<style scoped>\n",
       "    .dataframe tbody tr th:only-of-type {\n",
       "        vertical-align: middle;\n",
       "    }\n",
       "\n",
       "    .dataframe tbody tr th {\n",
       "        vertical-align: top;\n",
       "    }\n",
       "\n",
       "    .dataframe thead th {\n",
       "        text-align: right;\n",
       "    }\n",
       "</style>\n",
       "<table border=\"1\" class=\"dataframe\">\n",
       "  <thead>\n",
       "    <tr style=\"text-align: right;\">\n",
       "      <th></th>\n",
       "      <th>title</th>\n",
       "      <th>genre</th>\n",
       "      <th>description</th>\n",
       "    </tr>\n",
       "  </thead>\n",
       "  <tbody>\n",
       "    <tr>\n",
       "      <th>0</th>\n",
       "      <td>The Complete Stories and Poems</td>\n",
       "      <td>Literature</td>\n",
       "      <td>This single volume brings together all of Poe'...</td>\n",
       "    </tr>\n",
       "    <tr>\n",
       "      <th>1</th>\n",
       "      <td>The Old Man and the Sea</td>\n",
       "      <td>Fiction</td>\n",
       "      <td>This short novel, already a modern classic, is...</td>\n",
       "    </tr>\n",
       "    <tr>\n",
       "      <th>2</th>\n",
       "      <td>Interview with the Vampire</td>\n",
       "      <td>Fantasy</td>\n",
       "      <td>This is the story of Louis, as told in his own...</td>\n",
       "    </tr>\n",
       "    <tr>\n",
       "      <th>3</th>\n",
       "      <td>Don Quixote</td>\n",
       "      <td>Classics</td>\n",
       "      <td>Don Quixote has become so entranced by reading...</td>\n",
       "    </tr>\n",
       "    <tr>\n",
       "      <th>4</th>\n",
       "      <td>The Hunger Games</td>\n",
       "      <td>Fiction</td>\n",
       "      <td>In the ruins of a place once known as North Am...</td>\n",
       "    </tr>\n",
       "    <tr>\n",
       "      <th>...</th>\n",
       "      <td>...</td>\n",
       "      <td>...</td>\n",
       "      <td>...</td>\n",
       "    </tr>\n",
       "    <tr>\n",
       "      <th>9632</th>\n",
       "      <td>Promise of Blood</td>\n",
       "      <td>Fiction</td>\n",
       "      <td>The Age of Kings is dead . . . and I have kill...</td>\n",
       "    </tr>\n",
       "    <tr>\n",
       "      <th>9633</th>\n",
       "      <td>Death Be Not Proud</td>\n",
       "      <td>Classics</td>\n",
       "      <td>chronicles Johnny Gunther's gallant struggle ...</td>\n",
       "    </tr>\n",
       "    <tr>\n",
       "      <th>9634</th>\n",
       "      <td>It Happened One Autumn</td>\n",
       "      <td>Romance</td>\n",
       "      <td>Where beautiful but bold Lillian Bowman quickl...</td>\n",
       "    </tr>\n",
       "    <tr>\n",
       "      <th>9635</th>\n",
       "      <td>Charade</td>\n",
       "      <td>Romance</td>\n",
       "      <td>Nineteen-year-old Cheyenne tries to portray th...</td>\n",
       "    </tr>\n",
       "    <tr>\n",
       "      <th>9636</th>\n",
       "      <td>This Charming Man</td>\n",
       "      <td>Fiction</td>\n",
       "      <td>'Everybody remembers where they were the day t...</td>\n",
       "    </tr>\n",
       "  </tbody>\n",
       "</table>\n",
       "<p>9488 rows × 3 columns</p>\n",
       "</div>"
      ],
      "text/plain": [
       "                               title       genre  \\\n",
       "0     The Complete Stories and Poems  Literature   \n",
       "1            The Old Man and the Sea     Fiction   \n",
       "2         Interview with the Vampire     Fantasy   \n",
       "3                        Don Quixote    Classics   \n",
       "4                   The Hunger Games     Fiction   \n",
       "...                              ...         ...   \n",
       "9632                Promise of Blood     Fiction   \n",
       "9633              Death Be Not Proud    Classics   \n",
       "9634          It Happened One Autumn     Romance   \n",
       "9635                         Charade     Romance   \n",
       "9636               This Charming Man     Fiction   \n",
       "\n",
       "                                            description  \n",
       "0     This single volume brings together all of Poe'...  \n",
       "1     This short novel, already a modern classic, is...  \n",
       "2     This is the story of Louis, as told in his own...  \n",
       "3     Don Quixote has become so entranced by reading...  \n",
       "4     In the ruins of a place once known as North Am...  \n",
       "...                                                 ...  \n",
       "9632  The Age of Kings is dead . . . and I have kill...  \n",
       "9633   chronicles Johnny Gunther's gallant struggle ...  \n",
       "9634  Where beautiful but bold Lillian Bowman quickl...  \n",
       "9635  Nineteen-year-old Cheyenne tries to portray th...  \n",
       "9636  'Everybody remembers where they were the day t...  \n",
       "\n",
       "[9488 rows x 3 columns]"
      ]
     },
     "execution_count": 28,
     "metadata": {},
     "output_type": "execute_result"
    }
   ],
   "source": [
    "genre_counts = df['genre'].value_counts()\n",
    "\n",
    "# Get genres with counts over 80\n",
    "selected_genres = genre_counts[genre_counts > 60].index.tolist()\n",
    "\n",
    "# Filter the original DataFrame based on selected genres\n",
    "prediction_df = df[df['genre'].isin(selected_genres)]\n",
    "\n",
    "prediction_df"
   ]
  },
  {
   "cell_type": "code",
   "execution_count": 29,
   "id": "73617d10-75b6-437b-b6ed-657995445543",
   "metadata": {},
   "outputs": [
    {
     "data": {
      "text/plain": [
       "genre\n",
       "Fiction             2990\n",
       "Other               1581\n",
       "Young Adult         1057\n",
       "Nonfiction          1036\n",
       "Fantasy              667\n",
       "Mystery/Thriller     576\n",
       "Romance              501\n",
       "Classics             455\n",
       "Science Fiction      295\n",
       "Horror               139\n",
       "Childrens            124\n",
       "Literature            67\n",
       "Name: count, dtype: int64"
      ]
     },
     "execution_count": 29,
     "metadata": {},
     "output_type": "execute_result"
    }
   ],
   "source": [
    "prediction_df.genre.value_counts()"
   ]
  },
  {
   "cell_type": "code",
   "execution_count": 30,
   "id": "1791569b-9a9d-4ba9-8e25-a1332d6fe872",
   "metadata": {},
   "outputs": [
    {
     "name": "stdout",
     "output_type": "stream",
     "text": [
      "<class 'pandas.core.frame.DataFrame'>\n",
      "Index: 9488 entries, 0 to 9636\n",
      "Data columns (total 3 columns):\n",
      " #   Column       Non-Null Count  Dtype \n",
      "---  ------       --------------  ----- \n",
      " 0   title        9488 non-null   object\n",
      " 1   genre        9488 non-null   object\n",
      " 2   description  9488 non-null   object\n",
      "dtypes: object(3)\n",
      "memory usage: 296.5+ KB\n"
     ]
    }
   ],
   "source": [
    "prediction_df.info()"
   ]
  },
  {
   "cell_type": "markdown",
   "id": "635f9902-4a39-4aff-9b20-001e93a0ca37",
   "metadata": {
    "jp-MarkdownHeadingCollapsed": true
   },
   "source": [
    "<h1 style=\"color: #F08080;\">05. Text Preprocessing </h1>\n"
   ]
  },
  {
   "cell_type": "code",
   "execution_count": 32,
   "id": "a5f08d13-5e9a-4fb1-bb22-0001c10af559",
   "metadata": {},
   "outputs": [],
   "source": [
    "def clean_text(text):\n",
    "    # Delete characters other than letters or spaces\n",
    "    text = re.sub(r'[^a-zA-Z\\s]', '', text)\n",
    "    \n",
    "    # Convert to lowercase\n",
    "    text = text.lower()\n",
    "    \n",
    "    # Tokenizar\n",
    "    tokens = word_tokenize(text)\n",
    "    \n",
    "    # Delete stopwords\n",
    "    tokens = [word for word in tokens if word not in stopwords.words('english')]\n",
    "    \n",
    "    # Delete puntuacion\n",
    "    tokens = [word.translate(str.maketrans('', '', string.punctuation)) for word in tokens]\n",
    "    \n",
    "    # Stemming\n",
    "    stemmer = PorterStemmer()\n",
    "    tokens = [stemmer.stem(word) for word in tokens]\n",
    "    \n",
    "    # Reconstruct the processed text\n",
    "    return ' '.join(tokens)\n",
    "\n",
    "# Apply the function to the column \"description\" \n",
    "prediction_df['clean_description'] = prediction_df['description'].apply(clean_text)"
   ]
  },
  {
   "cell_type": "code",
   "execution_count": 33,
   "id": "616469ed-4aab-4dfd-a6e1-f4048e8cf80f",
   "metadata": {},
   "outputs": [],
   "source": [
    "# prediction_df.to_csv('prediction.csv', index=False)"
   ]
  },
  {
   "cell_type": "code",
   "execution_count": 34,
   "id": "9adbf397-0565-46e7-88d8-a5cb3ad6c94d",
   "metadata": {},
   "outputs": [
    {
     "data": {
      "text/plain": [
       "pandas.core.frame.DataFrame"
      ]
     },
     "execution_count": 34,
     "metadata": {},
     "output_type": "execute_result"
    }
   ],
   "source": [
    "type(prediction_df)"
   ]
  },
  {
   "cell_type": "markdown",
   "id": "cd672982-b676-46a2-a313-37043d80b722",
   "metadata": {
    "jp-MarkdownHeadingCollapsed": true
   },
   "source": [
    "<h1 style=\"color: #F08080;\">06. Data Preprocessing </h1>"
   ]
  },
  {
   "cell_type": "markdown",
   "id": "38eb49b2-c6a6-4a4b-a565-0b22d9146cdf",
   "metadata": {},
   "source": [
    "<h2 style=\"color: #FFA07A;\">X-y Split</h2>"
   ]
  },
  {
   "cell_type": "code",
   "execution_count": 37,
   "id": "3a924fb0-10e9-4e1b-b2d2-1e4a4b5766c0",
   "metadata": {},
   "outputs": [
    {
     "data": {
      "text/html": [
       "<div>\n",
       "<style scoped>\n",
       "    .dataframe tbody tr th:only-of-type {\n",
       "        vertical-align: middle;\n",
       "    }\n",
       "\n",
       "    .dataframe tbody tr th {\n",
       "        vertical-align: top;\n",
       "    }\n",
       "\n",
       "    .dataframe thead th {\n",
       "        text-align: right;\n",
       "    }\n",
       "</style>\n",
       "<table border=\"1\" class=\"dataframe\">\n",
       "  <thead>\n",
       "    <tr style=\"text-align: right;\">\n",
       "      <th></th>\n",
       "      <th>title</th>\n",
       "      <th>genre</th>\n",
       "      <th>description</th>\n",
       "      <th>clean_description</th>\n",
       "    </tr>\n",
       "  </thead>\n",
       "  <tbody>\n",
       "    <tr>\n",
       "      <th>0</th>\n",
       "      <td>The Complete Stories and Poems</td>\n",
       "      <td>Literature</td>\n",
       "      <td>This single volume brings together all of Poe'...</td>\n",
       "      <td>singl volum bring togeth poe stori poem illumi...</td>\n",
       "    </tr>\n",
       "    <tr>\n",
       "      <th>1</th>\n",
       "      <td>The Old Man and the Sea</td>\n",
       "      <td>Fiction</td>\n",
       "      <td>This short novel, already a modern classic, is...</td>\n",
       "      <td>short novel alreadi modern classic superbl tol...</td>\n",
       "    </tr>\n",
       "    <tr>\n",
       "      <th>2</th>\n",
       "      <td>Interview with the Vampire</td>\n",
       "      <td>Fantasy</td>\n",
       "      <td>This is the story of Louis, as told in his own...</td>\n",
       "      <td>stori loui told word journey mortal immort lif...</td>\n",
       "    </tr>\n",
       "    <tr>\n",
       "      <th>3</th>\n",
       "      <td>Don Quixote</td>\n",
       "      <td>Classics</td>\n",
       "      <td>Don Quixote has become so entranced by reading...</td>\n",
       "      <td>quixot becom entranc read chivalr romanc deter...</td>\n",
       "    </tr>\n",
       "    <tr>\n",
       "      <th>4</th>\n",
       "      <td>The Hunger Games</td>\n",
       "      <td>Fiction</td>\n",
       "      <td>In the ruins of a place once known as North Am...</td>\n",
       "      <td>ruin place known north america lie nation pane...</td>\n",
       "    </tr>\n",
       "    <tr>\n",
       "      <th>...</th>\n",
       "      <td>...</td>\n",
       "      <td>...</td>\n",
       "      <td>...</td>\n",
       "      <td>...</td>\n",
       "    </tr>\n",
       "    <tr>\n",
       "      <th>9632</th>\n",
       "      <td>Promise of Blood</td>\n",
       "      <td>Fiction</td>\n",
       "      <td>The Age of Kings is dead . . . and I have kill...</td>\n",
       "      <td>age king dead kill bloodi busi overthrow king</td>\n",
       "    </tr>\n",
       "    <tr>\n",
       "      <th>9633</th>\n",
       "      <td>Death Be Not Proud</td>\n",
       "      <td>Classics</td>\n",
       "      <td>chronicles Johnny Gunther's gallant struggle ...</td>\n",
       "      <td>chronicl johnni gunther gallant struggl malign...</td>\n",
       "    </tr>\n",
       "    <tr>\n",
       "      <th>9634</th>\n",
       "      <td>It Happened One Autumn</td>\n",
       "      <td>Romance</td>\n",
       "      <td>Where beautiful but bold Lillian Bowman quickl...</td>\n",
       "      <td>beauti bold lillian bowman quickli learn indep...</td>\n",
       "    </tr>\n",
       "    <tr>\n",
       "      <th>9635</th>\n",
       "      <td>Charade</td>\n",
       "      <td>Romance</td>\n",
       "      <td>Nineteen-year-old Cheyenne tries to portray th...</td>\n",
       "      <td>nineteenyearold cheyenn tri portray perfect li...</td>\n",
       "    </tr>\n",
       "    <tr>\n",
       "      <th>9636</th>\n",
       "      <td>This Charming Man</td>\n",
       "      <td>Fiction</td>\n",
       "      <td>'Everybody remembers where they were the day t...</td>\n",
       "      <td>everybodi rememb day heard paddi de courci get...</td>\n",
       "    </tr>\n",
       "  </tbody>\n",
       "</table>\n",
       "<p>9488 rows × 4 columns</p>\n",
       "</div>"
      ],
      "text/plain": [
       "                               title       genre  \\\n",
       "0     The Complete Stories and Poems  Literature   \n",
       "1            The Old Man and the Sea     Fiction   \n",
       "2         Interview with the Vampire     Fantasy   \n",
       "3                        Don Quixote    Classics   \n",
       "4                   The Hunger Games     Fiction   \n",
       "...                              ...         ...   \n",
       "9632                Promise of Blood     Fiction   \n",
       "9633              Death Be Not Proud    Classics   \n",
       "9634          It Happened One Autumn     Romance   \n",
       "9635                         Charade     Romance   \n",
       "9636               This Charming Man     Fiction   \n",
       "\n",
       "                                            description  \\\n",
       "0     This single volume brings together all of Poe'...   \n",
       "1     This short novel, already a modern classic, is...   \n",
       "2     This is the story of Louis, as told in his own...   \n",
       "3     Don Quixote has become so entranced by reading...   \n",
       "4     In the ruins of a place once known as North Am...   \n",
       "...                                                 ...   \n",
       "9632  The Age of Kings is dead . . . and I have kill...   \n",
       "9633   chronicles Johnny Gunther's gallant struggle ...   \n",
       "9634  Where beautiful but bold Lillian Bowman quickl...   \n",
       "9635  Nineteen-year-old Cheyenne tries to portray th...   \n",
       "9636  'Everybody remembers where they were the day t...   \n",
       "\n",
       "                                      clean_description  \n",
       "0     singl volum bring togeth poe stori poem illumi...  \n",
       "1     short novel alreadi modern classic superbl tol...  \n",
       "2     stori loui told word journey mortal immort lif...  \n",
       "3     quixot becom entranc read chivalr romanc deter...  \n",
       "4     ruin place known north america lie nation pane...  \n",
       "...                                                 ...  \n",
       "9632      age king dead kill bloodi busi overthrow king  \n",
       "9633  chronicl johnni gunther gallant struggl malign...  \n",
       "9634  beauti bold lillian bowman quickli learn indep...  \n",
       "9635  nineteenyearold cheyenn tri portray perfect li...  \n",
       "9636  everybodi rememb day heard paddi de courci get...  \n",
       "\n",
       "[9488 rows x 4 columns]"
      ]
     },
     "execution_count": 37,
     "metadata": {},
     "output_type": "execute_result"
    }
   ],
   "source": [
    "prediction_df"
   ]
  },
  {
   "cell_type": "code",
   "execution_count": 38,
   "id": "e1358692-efa5-4f64-910d-ca92aea7fec4",
   "metadata": {},
   "outputs": [],
   "source": [
    "X = prediction_df['clean_description']\n",
    "y = prediction_df['genre']"
   ]
  },
  {
   "cell_type": "markdown",
   "id": "c40947c3-cd1f-44dd-add0-8c3678b230a8",
   "metadata": {
    "jp-MarkdownHeadingCollapsed": true
   },
   "source": [
    "<h1 style=\"color: #F08080;\">07. Modeling </h1>"
   ]
  },
  {
   "cell_type": "markdown",
   "id": "b7286183-393f-43a8-8e55-a1e5d04a60c3",
   "metadata": {},
   "source": [
    "<h2 style=\"color: #FFA07A;\">Train-Test Split</h2>"
   ]
  },
  {
   "cell_type": "code",
   "execution_count": 41,
   "id": "f62bb4f9-0c28-4845-aa40-08b5933160f7",
   "metadata": {},
   "outputs": [],
   "source": [
    "X_train, X_test, y_train, y_test = train_test_split(X, y, test_size=0.2, random_state=42)\n"
   ]
  },
  {
   "cell_type": "code",
   "execution_count": 42,
   "id": "911511a9-f513-4b97-aa5b-f79e1e335ab5",
   "metadata": {},
   "outputs": [
    {
     "name": "stdout",
     "output_type": "stream",
     "text": [
      "100% of our data: 9488.\n",
      "80% for training data: 7590.\n",
      "20% for test data: 1898.\n"
     ]
    }
   ],
   "source": [
    "print(f'100% of our data: {len(prediction_df)}.')\n",
    "print(f'80% for training data: {len(X_train)}.')\n",
    "print(f'20% for test data: {len(X_test)}.')"
   ]
  },
  {
   "cell_type": "markdown",
   "id": "88bba226-063e-4e15-ab86-32c47f0b9b8d",
   "metadata": {},
   "source": [
    "<h2 style=\"color: #FFA07A;\">Downsample</h2>"
   ]
  },
  {
   "cell_type": "code",
   "execution_count": 44,
   "id": "068146c4-563e-468d-9944-993a92964f4a",
   "metadata": {},
   "outputs": [],
   "source": [
    "data = pd.concat([X, y], axis=1)"
   ]
  },
  {
   "cell_type": "code",
   "execution_count": 45,
   "id": "b7af57f8-95a1-4a67-99b4-626ad92a395f",
   "metadata": {},
   "outputs": [],
   "source": [
    "majority = data[data['genre'] == 'Fiction']\n",
    "minorities = data[data['genre'] != 'Fiction']\n",
    "\n",
    "\n",
    "majority_downsampled = resample(\n",
    "    majority,\n",
    "    replace=False,\n",
    "    n_samples=1581,  # Size equal to the gender \"Other\"\n",
    "    random_state=42\n",
    ")\n",
    "\n",
    "balanced_data = pd.concat([majority_downsampled, minorities])"
   ]
  },
  {
   "cell_type": "code",
   "execution_count": 46,
   "id": "d3f0d183-471f-4b9a-8047-2a92ba03e5c4",
   "metadata": {},
   "outputs": [],
   "source": [
    "#data.to_csv('data.csv', index=False)"
   ]
  },
  {
   "cell_type": "code",
   "execution_count": 47,
   "id": "9c0edc1c-0989-42b0-8a5f-8fcb8837237b",
   "metadata": {},
   "outputs": [
    {
     "data": {
      "text/plain": [
       "clean_description           \n",
       "genre                Fiction\n",
       "Name: 9200, dtype: object"
      ]
     },
     "execution_count": 47,
     "metadata": {},
     "output_type": "execute_result"
    }
   ],
   "source": [
    "balanced_data.iloc[159]"
   ]
  },
  {
   "cell_type": "code",
   "execution_count": 48,
   "id": "0d299378-8436-4888-8a22-f42af28e57a4",
   "metadata": {},
   "outputs": [],
   "source": [
    "balanced_data.to_csv('model.csv', index=False)"
   ]
  },
  {
   "cell_type": "markdown",
   "id": "105f2fde-08a3-4967-a9c3-caee31fcf7c3",
   "metadata": {},
   "source": [
    "<h2 style=\"color: #FFA07A;\">Train-Test Split after the Downsaple</h2>"
   ]
  },
  {
   "cell_type": "code",
   "execution_count": 50,
   "id": "4372d79e-8e80-40e4-b176-4615f67d57ef",
   "metadata": {},
   "outputs": [],
   "source": [
    "X_balanced = balanced_data['clean_description']\n",
    "y_balanced = balanced_data['genre']\n"
   ]
  },
  {
   "cell_type": "code",
   "execution_count": 52,
   "id": "5f1d060e-9b04-4612-bb95-c83f231be081",
   "metadata": {},
   "outputs": [],
   "source": [
    "X_train, X_test, y_train, y_test = train_test_split(X_balanced, y_balanced, test_size=0.2, random_state=42)"
   ]
  },
  {
   "cell_type": "code",
   "execution_count": 54,
   "id": "04daaf09-480c-4216-ba13-486b7960d95a",
   "metadata": {},
   "outputs": [
    {
     "name": "stdout",
     "output_type": "stream",
     "text": [
      "Accuracy: 0.35086633663366334\n",
      "                  precision    recall  f1-score   support\n",
      "\n",
      "       Childrens       0.43      0.11      0.18        27\n",
      "        Classics       0.37      0.16      0.23        86\n",
      "         Fantasy       0.36      0.10      0.16       115\n",
      "         Fiction       0.32      0.52      0.39       331\n",
      "          Horror       0.50      0.03      0.06        30\n",
      "      Literature       1.00      0.10      0.18        10\n",
      "Mystery/Thriller       0.36      0.32      0.34       110\n",
      "      Nonfiction       0.53      0.60      0.56       209\n",
      "           Other       0.27      0.38      0.32       320\n",
      "         Romance       0.38      0.03      0.05       105\n",
      " Science Fiction       0.20      0.02      0.03        56\n",
      "     Young Adult       0.40      0.35      0.38       217\n",
      "\n",
      "        accuracy                           0.35      1616\n",
      "       macro avg       0.43      0.23      0.24      1616\n",
      "    weighted avg       0.36      0.35      0.32      1616\n",
      "\n"
     ]
    }
   ],
   "source": [
    "# Convert text data to numerical features using TF-IDF\n",
    "tfidf_vectorizer = TfidfVectorizer(max_features=1000)  # You can adjust the max_features parameter\n",
    "X_train_tfidf = tfidf_vectorizer.fit_transform(X_train)\n",
    "X_test_tfidf = tfidf_vectorizer.transform(X_test)\n",
    "\n",
    "# Train the model (example with RandomForestClassifier)\n",
    "rf_classifier = RandomForestClassifier(n_estimators=300,  class_weight='balanced')\n",
    "rf_classifier.fit(X_train_tfidf, y_train)\n",
    "\n",
    "# Make predictions on the test set\n",
    "y_pred = rf_classifier.predict(X_test_tfidf)\n",
    "\n",
    "# Evaluate the model\n",
    "accuracy = accuracy_score(y_test, y_pred)\n",
    "print(\"Accuracy:\", accuracy)\n",
    "print(classification_report(y_test, y_pred))"
   ]
  },
  {
   "cell_type": "markdown",
   "id": "20ab8654-4277-4fd5-b01d-ea97245ee3cd",
   "metadata": {},
   "source": [
    "<h2 style=\"color: #FFA07A;\">Testing the model</h2>"
   ]
  },
  {
   "cell_type": "code",
   "execution_count": 56,
   "id": "a67edb7b-e302-44aa-9222-ecf679006acc",
   "metadata": {},
   "outputs": [
    {
     "name": "stdout",
     "output_type": "stream",
     "text": [
      "Predicted Genre: ['Fiction']\n"
     ]
    }
   ],
   "source": [
    "test_1 = '''In the ruins of a place once known as North America lies the nation of Panem, a shining Capitol surrounded by twelve outlying districts. Long ago the districts waged war on the Capitol and were defeated. As part of the surrender terms, each district agreed to send one boy and one girl to appear in an annual televised event called, \"The Hunger Games,\" a fight to the death on live TV. Sixteen-year-old Katniss Everdeen, who lives alone with her mother and younger sister, regards it as a death sentence when she is forced to represent her district in the Games. The terrain, rules, and level of audience participation may change but one thing is constant: kill or be killed.'''\n",
    "synopsis = clean_text(test_1)\n",
    "\n",
    "new_synopsis_vectorized = tfidf_vectorizer.transform([synopsis])\n",
    "\n",
    "predicted_genre = rf_classifier.predict(new_synopsis_vectorized)\n",
    "\n",
    "# Print the predicted genre\n",
    "print(\"Predicted Genre:\", predicted_genre)\n"
   ]
  },
  {
   "cell_type": "code",
   "execution_count": 58,
   "id": "54e8768b-c3d0-4650-9bdf-a1f4ac939c4e",
   "metadata": {},
   "outputs": [
    {
     "name": "stdout",
     "output_type": "stream",
     "text": [
      "Predicted Genre: ['Young Adult']\n"
     ]
    }
   ],
   "source": [
    "# The Academy (The Academy Series) gender \n",
    "test_2 = '''Born and raised in a small town, Leo K. Doyle has never seen the ocean or stepped foot on a plane. But Leo is a star soccer player with big dreams in life.\n",
    "\n",
    "Rock-star, Olympic gold, dragon-slaying dreams.\n",
    "\n",
    "While Leo has a pet lizard named Messi and longs to make the pros one day, he has no idea how to achieve his goal—until a professional scout pays a chance visit to one of Leo’s games and extends an invitation to try out for the London Dragons youth squad, known as The Academy.\n",
    "\n",
    "Leo is stunned. The London Dragons isn’t just any old soccer team. It’s a world-famous English Premier League team. Soon Leo is off to a whole new country, embarking on the greatest adventure of his life. The downside? Only eleven players can make the team.\n",
    "\n",
    "Eleven out of two hundred of the very best youth players on the planet.\n",
    "\n",
    "Along with the grueling competition, Leo must also face a bully intent on torpedoing his summer, a roomie who doesn’t know how to have fun, a terrifying camp director, and, most of all, Leo’s own lack of formal training and the fear he’ll never succeed. By the end of the summer, Leo will become a much better player and forever changed by his experience.'''\n",
    "\n",
    "synopsis = clean_text(test_2)\n",
    "\n",
    "new_synopsis_vectorized = tfidf_vectorizer.transform([synopsis])\n",
    "\n",
    "predicted_genre = rf_classifier.predict(new_synopsis_vectorized)\n",
    "\n",
    "# Print the predicted genre\n",
    "print(\"Predicted Genre:\", predicted_genre)"
   ]
  },
  {
   "cell_type": "code",
   "execution_count": 60,
   "id": "03d6a915-ff6f-40b4-a6bd-deee1cb0060e",
   "metadata": {},
   "outputs": [
    {
     "name": "stdout",
     "output_type": "stream",
     "text": [
      "Predicted Genre: ['Fiction']\n"
     ]
    }
   ],
   "source": [
    "# MOMO  Fiction/ Romatic \n",
    "test_3 = '''At the edge of the city, in the ruins of an old amphitheatre, there lives a little homelss girl called Momo. Momo has a special talent which she uses to help all her friends who come to visit her. Then one day the sinister men in grey arrive and silently take over the city. Only Momo has the power to resist them, and with the help of Professor Hora and his strange tortoise, Cassiopeia, she travels beyond the boundaries of time to uncover their dark secrets.'''\n",
    "\n",
    "synopsis = clean_text(test_3)\n",
    "\n",
    "new_synopsis_vectorized = tfidf_vectorizer.transform([synopsis])\n",
    "\n",
    "predicted_genre = rf_classifier.predict(new_synopsis_vectorized)\n",
    "\n",
    "# Print the predicted genre\n",
    "print(\"Predicted Genre:\", predicted_genre)"
   ]
  }
 ],
 "metadata": {
  "kernelspec": {
   "display_name": "Python 3 (ipykernel)",
   "language": "python",
   "name": "python3"
  },
  "language_info": {
   "codemirror_mode": {
    "name": "ipython",
    "version": 3
   },
   "file_extension": ".py",
   "mimetype": "text/x-python",
   "name": "python",
   "nbconvert_exporter": "python",
   "pygments_lexer": "ipython3",
   "version": "3.12.4"
  }
 },
 "nbformat": 4,
 "nbformat_minor": 5
}
